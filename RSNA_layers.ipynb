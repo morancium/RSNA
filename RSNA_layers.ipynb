{
 "cells": [
  {
   "cell_type": "code",
   "execution_count": 1,
   "id": "cfa63e6f",
   "metadata": {
    "_cell_guid": "b1076dfc-b9ad-4769-8c92-a6c4dae69d19",
    "_uuid": "8f2839f25d086af736a60e9eeb907d3b93b6e0e5",
    "execution": {
     "iopub.execute_input": "2021-10-11T13:16:41.957419Z",
     "iopub.status.busy": "2021-10-11T13:16:41.956619Z",
     "iopub.status.idle": "2021-10-11T13:16:41.961093Z",
     "shell.execute_reply": "2021-10-11T13:16:41.961692Z",
     "shell.execute_reply.started": "2021-10-11T12:18:56.630860Z"
    },
    "papermill": {
     "duration": 0.041523,
     "end_time": "2021-10-11T13:16:41.961934",
     "exception": false,
     "start_time": "2021-10-11T13:16:41.920411",
     "status": "completed"
    },
    "scrolled": true,
    "tags": []
   },
   "outputs": [
    {
     "name": "stdout",
     "output_type": "stream",
     "text": [
      "DONE\n"
     ]
    }
   ],
   "source": [
    "# This Python 3 environment comes with many helpful analytics libraries installed\n",
    "# It is defined by the kaggle/python Docker image: https://github.com/kaggle/docker-python\n",
    "# For example, here's several helpful packages to load\n",
    "\n",
    "import numpy as np # linear algebra\n",
    "import pandas as pd # data processing, CSV file I/O (e.g. pd.read_csv)\n",
    "\n",
    "# Input data files are available in the read-only \"../input/\" directory\n",
    "# For example, running this (by clicking run or pressing Shift+Enter) will list all files under the input directory\n",
    "\n",
    "import os\n",
    "# for dirname, _, filenames in os.walk('/kaggle/input'):\n",
    "#     for filename in filenames:\n",
    "#         print(os.path.join(dirname, filename))\n",
    "print(\"DONE\")\n",
    "# You can write up to 20GB to the current directory (/kaggle/working/) that gets preserved as output when you create a version using \"Save & Run All\" \n",
    "# You can also write temporary files to /kaggle/temp/, but they won't be saved outside of the current session"
   ]
  },
  {
   "cell_type": "code",
   "execution_count": 2,
   "id": "d0794cb2",
   "metadata": {
    "execution": {
     "iopub.execute_input": "2021-10-11T13:16:42.003430Z",
     "iopub.status.busy": "2021-10-11T13:16:42.002664Z",
     "iopub.status.idle": "2021-10-11T13:16:47.030571Z",
     "shell.execute_reply": "2021-10-11T13:16:47.031048Z",
     "shell.execute_reply.started": "2021-10-11T12:19:00.217391Z"
    },
    "papermill": {
     "duration": 5.052762,
     "end_time": "2021-10-11T13:16:47.031251",
     "exception": false,
     "start_time": "2021-10-11T13:16:41.978489",
     "status": "completed"
    },
    "tags": []
   },
   "outputs": [
    {
     "name": "stderr",
     "output_type": "stream",
     "text": [
      "2021-10-11 13:16:42.731412: W tensorflow/stream_executor/platform/default/dso_loader.cc:60] Could not load dynamic library 'libcudart.so.11.0'; dlerror: libcudart.so.11.0: cannot open shared object file: No such file or directory; LD_LIBRARY_PATH: /opt/conda/lib\n",
      "2021-10-11 13:16:42.731545: I tensorflow/stream_executor/cuda/cudart_stub.cc:29] Ignore above cudart dlerror if you do not have a GPU set up on your machine.\n"
     ]
    }
   ],
   "source": [
    "import numpy as np\n",
    "import pandas as pd\n",
    "import os\n",
    "import cv2\n",
    "from tqdm.notebook import tqdm\n",
    "import matplotlib.pyplot as plt\n",
    "from tensorflow.keras.utils import to_categorical\n",
    "from tensorflow.keras.preprocessing.image import load_img, img_to_array\n",
    "from tensorflow.keras.layers import Dense,Flatten,Dropout,Conv2D,MaxPooling2D,BatchNormalization\n",
    "from tensorflow.keras.optimizers import Adam\n",
    "from tensorflow.keras.models import Sequential\n",
    "import pydicom\n",
    "from pydicom.pixel_data_handlers.util import apply_voi_lut"
   ]
  },
  {
   "cell_type": "code",
   "execution_count": 3,
   "id": "d491487f",
   "metadata": {
    "execution": {
     "iopub.execute_input": "2021-10-11T13:16:47.067920Z",
     "iopub.status.busy": "2021-10-11T13:16:47.067278Z",
     "iopub.status.idle": "2021-10-11T13:16:47.259047Z",
     "shell.execute_reply": "2021-10-11T13:16:47.258460Z",
     "shell.execute_reply.started": "2021-10-11T12:19:01.312550Z"
    },
    "papermill": {
     "duration": 0.21084,
     "end_time": "2021-10-11T13:16:47.259209",
     "exception": false,
     "start_time": "2021-10-11T13:16:47.048369",
     "status": "completed"
    },
    "tags": []
   },
   "outputs": [],
   "source": [
    "train_name=os.listdir('../input/rsna-miccai-brain-tumor-radiogenomic-classification/train')\n",
    "test_name=os.listdir('../input/rsna-miccai-brain-tumor-radiogenomic-classification/test')"
   ]
  },
  {
   "cell_type": "code",
   "execution_count": 4,
   "id": "0f9ce6a0",
   "metadata": {
    "execution": {
     "iopub.execute_input": "2021-10-11T13:16:47.298036Z",
     "iopub.status.busy": "2021-10-11T13:16:47.297150Z",
     "iopub.status.idle": "2021-10-11T13:16:47.320683Z",
     "shell.execute_reply": "2021-10-11T13:16:47.321202Z",
     "shell.execute_reply.started": "2021-10-11T12:19:17.912621Z"
    },
    "papermill": {
     "duration": 0.0454,
     "end_time": "2021-10-11T13:16:47.321361",
     "exception": false,
     "start_time": "2021-10-11T13:16:47.275961",
     "status": "completed"
    },
    "tags": []
   },
   "outputs": [
    {
     "data": {
      "text/html": [
       "<div>\n",
       "<style scoped>\n",
       "    .dataframe tbody tr th:only-of-type {\n",
       "        vertical-align: middle;\n",
       "    }\n",
       "\n",
       "    .dataframe tbody tr th {\n",
       "        vertical-align: top;\n",
       "    }\n",
       "\n",
       "    .dataframe thead th {\n",
       "        text-align: right;\n",
       "    }\n",
       "</style>\n",
       "<table border=\"1\" class=\"dataframe\">\n",
       "  <thead>\n",
       "    <tr style=\"text-align: right;\">\n",
       "      <th></th>\n",
       "      <th>BraTS21ID</th>\n",
       "      <th>MGMT_value</th>\n",
       "    </tr>\n",
       "  </thead>\n",
       "  <tbody>\n",
       "    <tr>\n",
       "      <th>0</th>\n",
       "      <td>0</td>\n",
       "      <td>1</td>\n",
       "    </tr>\n",
       "    <tr>\n",
       "      <th>1</th>\n",
       "      <td>2</td>\n",
       "      <td>1</td>\n",
       "    </tr>\n",
       "    <tr>\n",
       "      <th>2</th>\n",
       "      <td>3</td>\n",
       "      <td>0</td>\n",
       "    </tr>\n",
       "    <tr>\n",
       "      <th>3</th>\n",
       "      <td>5</td>\n",
       "      <td>1</td>\n",
       "    </tr>\n",
       "    <tr>\n",
       "      <th>4</th>\n",
       "      <td>6</td>\n",
       "      <td>1</td>\n",
       "    </tr>\n",
       "    <tr>\n",
       "      <th>...</th>\n",
       "      <td>...</td>\n",
       "      <td>...</td>\n",
       "    </tr>\n",
       "    <tr>\n",
       "      <th>580</th>\n",
       "      <td>1005</td>\n",
       "      <td>1</td>\n",
       "    </tr>\n",
       "    <tr>\n",
       "      <th>581</th>\n",
       "      <td>1007</td>\n",
       "      <td>1</td>\n",
       "    </tr>\n",
       "    <tr>\n",
       "      <th>582</th>\n",
       "      <td>1008</td>\n",
       "      <td>1</td>\n",
       "    </tr>\n",
       "    <tr>\n",
       "      <th>583</th>\n",
       "      <td>1009</td>\n",
       "      <td>0</td>\n",
       "    </tr>\n",
       "    <tr>\n",
       "      <th>584</th>\n",
       "      <td>1010</td>\n",
       "      <td>0</td>\n",
       "    </tr>\n",
       "  </tbody>\n",
       "</table>\n",
       "<p>585 rows × 2 columns</p>\n",
       "</div>"
      ],
      "text/plain": [
       "     BraTS21ID  MGMT_value\n",
       "0            0           1\n",
       "1            2           1\n",
       "2            3           0\n",
       "3            5           1\n",
       "4            6           1\n",
       "..         ...         ...\n",
       "580       1005           1\n",
       "581       1007           1\n",
       "582       1008           1\n",
       "583       1009           0\n",
       "584       1010           0\n",
       "\n",
       "[585 rows x 2 columns]"
      ]
     },
     "execution_count": 4,
     "metadata": {},
     "output_type": "execute_result"
    }
   ],
   "source": [
    "labels=pd.read_csv('../input/rsna-miccai-brain-tumor-radiogenomic-classification/train_labels.csv')\n",
    "labels"
   ]
  },
  {
   "cell_type": "code",
   "execution_count": 5,
   "id": "0ab351b3",
   "metadata": {
    "execution": {
     "iopub.execute_input": "2021-10-11T13:16:47.359660Z",
     "iopub.status.busy": "2021-10-11T13:16:47.358950Z",
     "iopub.status.idle": "2021-10-11T13:16:47.381080Z",
     "shell.execute_reply": "2021-10-11T13:16:47.381585Z",
     "shell.execute_reply.started": "2021-10-11T12:19:30.758446Z"
    },
    "papermill": {
     "duration": 0.04304,
     "end_time": "2021-10-11T13:16:47.381740",
     "exception": false,
     "start_time": "2021-10-11T13:16:47.338700",
     "status": "completed"
    },
    "tags": []
   },
   "outputs": [
    {
     "data": {
      "text/html": [
       "<div>\n",
       "<style scoped>\n",
       "    .dataframe tbody tr th:only-of-type {\n",
       "        vertical-align: middle;\n",
       "    }\n",
       "\n",
       "    .dataframe tbody tr th {\n",
       "        vertical-align: top;\n",
       "    }\n",
       "\n",
       "    .dataframe thead th {\n",
       "        text-align: right;\n",
       "    }\n",
       "</style>\n",
       "<table border=\"1\" class=\"dataframe\">\n",
       "  <thead>\n",
       "    <tr style=\"text-align: right;\">\n",
       "      <th></th>\n",
       "      <th>BraTS21ID</th>\n",
       "      <th>MGMT_value</th>\n",
       "    </tr>\n",
       "  </thead>\n",
       "  <tbody>\n",
       "    <tr>\n",
       "      <th>0</th>\n",
       "      <td>1</td>\n",
       "      <td>0.5</td>\n",
       "    </tr>\n",
       "    <tr>\n",
       "      <th>1</th>\n",
       "      <td>13</td>\n",
       "      <td>0.5</td>\n",
       "    </tr>\n",
       "    <tr>\n",
       "      <th>2</th>\n",
       "      <td>15</td>\n",
       "      <td>0.5</td>\n",
       "    </tr>\n",
       "    <tr>\n",
       "      <th>3</th>\n",
       "      <td>27</td>\n",
       "      <td>0.5</td>\n",
       "    </tr>\n",
       "    <tr>\n",
       "      <th>4</th>\n",
       "      <td>37</td>\n",
       "      <td>0.5</td>\n",
       "    </tr>\n",
       "    <tr>\n",
       "      <th>...</th>\n",
       "      <td>...</td>\n",
       "      <td>...</td>\n",
       "    </tr>\n",
       "    <tr>\n",
       "      <th>82</th>\n",
       "      <td>826</td>\n",
       "      <td>0.5</td>\n",
       "    </tr>\n",
       "    <tr>\n",
       "      <th>83</th>\n",
       "      <td>829</td>\n",
       "      <td>0.5</td>\n",
       "    </tr>\n",
       "    <tr>\n",
       "      <th>84</th>\n",
       "      <td>833</td>\n",
       "      <td>0.5</td>\n",
       "    </tr>\n",
       "    <tr>\n",
       "      <th>85</th>\n",
       "      <td>997</td>\n",
       "      <td>0.5</td>\n",
       "    </tr>\n",
       "    <tr>\n",
       "      <th>86</th>\n",
       "      <td>1006</td>\n",
       "      <td>0.5</td>\n",
       "    </tr>\n",
       "  </tbody>\n",
       "</table>\n",
       "<p>87 rows × 2 columns</p>\n",
       "</div>"
      ],
      "text/plain": [
       "    BraTS21ID  MGMT_value\n",
       "0           1         0.5\n",
       "1          13         0.5\n",
       "2          15         0.5\n",
       "3          27         0.5\n",
       "4          37         0.5\n",
       "..        ...         ...\n",
       "82        826         0.5\n",
       "83        829         0.5\n",
       "84        833         0.5\n",
       "85        997         0.5\n",
       "86       1006         0.5\n",
       "\n",
       "[87 rows x 2 columns]"
      ]
     },
     "execution_count": 5,
     "metadata": {},
     "output_type": "execute_result"
    }
   ],
   "source": [
    "sample=pd.read_csv('../input/rsna-miccai-brain-tumor-radiogenomic-classification/sample_submission.csv')\n",
    "sample"
   ]
  },
  {
   "cell_type": "code",
   "execution_count": 6,
   "id": "1d6f5797",
   "metadata": {
    "execution": {
     "iopub.execute_input": "2021-10-11T13:16:47.419807Z",
     "iopub.status.busy": "2021-10-11T13:16:47.419075Z",
     "iopub.status.idle": "2021-10-11T13:16:47.424833Z",
     "shell.execute_reply": "2021-10-11T13:16:47.424296Z",
     "shell.execute_reply.started": "2021-10-11T12:29:41.197402Z"
    },
    "papermill": {
     "duration": 0.026105,
     "end_time": "2021-10-11T13:16:47.424958",
     "exception": false,
     "start_time": "2021-10-11T13:16:47.398853",
     "status": "completed"
    },
    "tags": []
   },
   "outputs": [],
   "source": [
    "def load_dicom(path):\n",
    "    dicom=pydicom.read_file(path)\n",
    "    data=dicom.pixel_array\n",
    "    data=data-np.min(data)\n",
    "    if np.max(data) != 0:\n",
    "        data=data/np.max(data)\n",
    "    data=(data*255).astype(np.uint8)\n",
    "    return data"
   ]
  },
  {
   "cell_type": "code",
   "execution_count": 7,
   "id": "ddeacbe9",
   "metadata": {
    "execution": {
     "iopub.execute_input": "2021-10-11T13:16:47.463084Z",
     "iopub.status.busy": "2021-10-11T13:16:47.462494Z",
     "iopub.status.idle": "2021-10-11T13:16:47.497007Z",
     "shell.execute_reply": "2021-10-11T13:16:47.496359Z",
     "shell.execute_reply.started": "2021-10-11T12:29:53.423734Z"
    },
    "papermill": {
     "duration": 0.055223,
     "end_time": "2021-10-11T13:16:47.497168",
     "exception": false,
     "start_time": "2021-10-11T13:16:47.441945",
     "status": "completed"
    },
    "tags": []
   },
   "outputs": [
    {
     "name": "stdout",
     "output_type": "stream",
     "text": [
      "(512, 512)\n",
      "(9, 9)\n"
     ]
    }
   ],
   "source": [
    "path0='../input/rsna-miccai-brain-tumor-radiogenomic-classification/train/00000/T1wCE/Image-1.dcm'\n",
    "img1=load_dicom(path0)\n",
    "img2=cv2.resize(img1,(9,9)) \n",
    "print(img1.shape)\n",
    "print(img2.shape)"
   ]
  },
  {
   "cell_type": "code",
   "execution_count": 8,
   "id": "da4beaed",
   "metadata": {
    "execution": {
     "iopub.execute_input": "2021-10-11T13:16:47.540234Z",
     "iopub.status.busy": "2021-10-11T13:16:47.539590Z",
     "iopub.status.idle": "2021-10-11T13:29:59.641736Z",
     "shell.execute_reply": "2021-10-11T13:29:59.641082Z",
     "shell.execute_reply.started": "2021-10-11T12:30:03.889331Z"
    },
    "papermill": {
     "duration": 792.127606,
     "end_time": "2021-10-11T13:29:59.641992",
     "exception": false,
     "start_time": "2021-10-11T13:16:47.514386",
     "status": "completed"
    },
    "tags": []
   },
   "outputs": [
    {
     "data": {
      "application/vnd.jupyter.widget-view+json": {
       "model_id": "a1226d01548b4ee5a1549f41572d09d2",
       "version_major": 2,
       "version_minor": 0
      },
      "text/plain": [
       "  0%|          | 0/585 [00:00<?, ?it/s]"
      ]
     },
     "metadata": {},
     "output_type": "display_data"
    }
   ],
   "source": [
    "train_dir='../input/rsna-miccai-brain-tumor-radiogenomic-classification/train'\n",
    "trainset=[]\n",
    "trainlabel=[]\n",
    "trainidt=[]\n",
    "for i in tqdm(range(len(labels))):\n",
    "    idt=labels.loc[i,'BraTS21ID']\n",
    "    idt2=('00000'+str(idt))[-5:]\n",
    "    path=os.path.join(train_dir,idt2,'T1wCE')              \n",
    "    for im in os.listdir(path):\n",
    "        img=load_dicom(os.path.join(path,im))\n",
    "        img=cv2.resize(img,(9,9)) \n",
    "        image=img_to_array(img)\n",
    "        image=image/255.0\n",
    "        trainset+=[image]\n",
    "        trainlabel+=[labels.loc[i,'MGMT_value']]\n",
    "        trainidt+=[idt]"
   ]
  },
  {
   "cell_type": "code",
   "execution_count": 9,
   "id": "31a473b9",
   "metadata": {
    "execution": {
     "iopub.execute_input": "2021-10-11T13:29:59.714466Z",
     "iopub.status.busy": "2021-10-11T13:29:59.713418Z",
     "iopub.status.idle": "2021-10-11T13:31:50.063997Z",
     "shell.execute_reply": "2021-10-11T13:31:50.063254Z",
     "shell.execute_reply.started": "2021-10-11T12:45:16.412205Z"
    },
    "papermill": {
     "duration": 110.401526,
     "end_time": "2021-10-11T13:31:50.064236",
     "exception": false,
     "start_time": "2021-10-11T13:29:59.662710",
     "status": "completed"
    },
    "tags": []
   },
   "outputs": [
    {
     "data": {
      "application/vnd.jupyter.widget-view+json": {
       "model_id": "876ee5568d884ba08280819b19cf6d67",
       "version_major": 2,
       "version_minor": 0
      },
      "text/plain": [
       "  0%|          | 0/87 [00:00<?, ?it/s]"
      ]
     },
     "metadata": {},
     "output_type": "display_data"
    },
    {
     "name": "stdout",
     "output_type": "stream",
     "text": [
      "Done\n"
     ]
    }
   ],
   "source": [
    "test_dir='../input/rsna-miccai-brain-tumor-radiogenomic-classification/test'\n",
    "testset=[]\n",
    "testidt=[]\n",
    "for i in tqdm(range(len(sample))):\n",
    "    idt=sample.loc[i,'BraTS21ID']\n",
    "    idt2=('00000'+str(idt))[-5:]\n",
    "    path=os.path.join(test_dir,idt2,'T1wCE')               \n",
    "    for im in os.listdir(path):   \n",
    "        img=load_dicom(os.path.join(path,im))\n",
    "        img=cv2.resize(img,(9,9)) \n",
    "        image=img_to_array(img)\n",
    "        image=image/255.0\n",
    "        testset+=[image]\n",
    "        testidt+=[idt]\n",
    "print(\"Done\")"
   ]
  },
  {
   "cell_type": "code",
   "execution_count": 10,
   "id": "4406958d",
   "metadata": {
    "execution": {
     "iopub.execute_input": "2021-10-11T13:31:50.126136Z",
     "iopub.status.busy": "2021-10-11T13:31:50.125432Z",
     "iopub.status.idle": "2021-10-11T13:31:50.260982Z",
     "shell.execute_reply": "2021-10-11T13:31:50.261532Z",
     "shell.execute_reply.started": "2021-10-11T12:47:34.376417Z"
    },
    "papermill": {
     "duration": 0.17788,
     "end_time": "2021-10-11T13:31:50.261731",
     "exception": false,
     "start_time": "2021-10-11T13:31:50.083851",
     "status": "completed"
    },
    "tags": []
   },
   "outputs": [],
   "source": [
    "from tensorflow.keras.utils import to_categorical\n",
    "y0=np.array(trainlabel)\n",
    "Y_train=to_categorical(y0)\n",
    "X_train=np.array(trainset)\n",
    "X_test=np.array(testset)"
   ]
  },
  {
   "cell_type": "code",
   "execution_count": 11,
   "id": "23450a44",
   "metadata": {
    "execution": {
     "iopub.execute_input": "2021-10-11T13:31:50.306936Z",
     "iopub.status.busy": "2021-10-11T13:31:50.306335Z",
     "iopub.status.idle": "2021-10-11T13:31:50.492711Z",
     "shell.execute_reply": "2021-10-11T13:31:50.493181Z",
     "shell.execute_reply.started": "2021-10-11T12:55:03.996149Z"
    },
    "papermill": {
     "duration": 0.212882,
     "end_time": "2021-10-11T13:31:50.493348",
     "exception": false,
     "start_time": "2021-10-11T13:31:50.280466",
     "status": "completed"
    },
    "tags": []
   },
   "outputs": [
    {
     "name": "stderr",
     "output_type": "stream",
     "text": [
      "2021-10-11 13:31:50.335314: I tensorflow/compiler/jit/xla_cpu_device.cc:41] Not creating XLA devices, tf_xla_enable_xla_devices not set\n",
      "2021-10-11 13:31:50.355434: W tensorflow/stream_executor/platform/default/dso_loader.cc:60] Could not load dynamic library 'libcuda.so.1'; dlerror: libcuda.so.1: cannot open shared object file: No such file or directory; LD_LIBRARY_PATH: /opt/conda/lib\n",
      "2021-10-11 13:31:50.355491: W tensorflow/stream_executor/cuda/cuda_driver.cc:326] failed call to cuInit: UNKNOWN ERROR (303)\n",
      "2021-10-11 13:31:50.355546: I tensorflow/stream_executor/cuda/cuda_diagnostics.cc:156] kernel driver does not appear to be running on this host (b0382bc9af97): /proc/driver/nvidia/version does not exist\n",
      "2021-10-11 13:31:50.357454: I tensorflow/core/platform/cpu_feature_guard.cc:142] This TensorFlow binary is optimized with oneAPI Deep Neural Network Library (oneDNN) to use the following CPU instructions in performance-critical operations:  AVX2 FMA\n",
      "To enable them in other operations, rebuild TensorFlow with the appropriate compiler flags.\n",
      "2021-10-11 13:31:50.357953: I tensorflow/compiler/jit/xla_gpu_device.cc:99] Not creating XLA devices, tf_xla_enable_xla_devices not set\n"
     ]
    }
   ],
   "source": [
    "model = Sequential()\n",
    "model.add(Conv2D(64,(4,4),input_shape = (9,9,1),activation = 'relu'))\n",
    "model.add(Conv2D(32,(2,2),activation = 'relu'))\n",
    "model.add(Dropout(0.2))\n",
    "model.add(Flatten())\n",
    "model.add(Dense(32, activation='relu'))\n",
    "model.add(Dense(8, activation='relu'))\n",
    "model.add(Dense(2, activation='softmax'))"
   ]
  },
  {
   "cell_type": "code",
   "execution_count": 12,
   "id": "069d8a97",
   "metadata": {
    "execution": {
     "iopub.execute_input": "2021-10-11T13:31:50.534339Z",
     "iopub.status.busy": "2021-10-11T13:31:50.533361Z",
     "iopub.status.idle": "2021-10-11T13:31:50.544744Z",
     "shell.execute_reply": "2021-10-11T13:31:50.545915Z",
     "shell.execute_reply.started": "2021-10-11T12:55:39.851466Z"
    },
    "papermill": {
     "duration": 0.03433,
     "end_time": "2021-10-11T13:31:50.546166",
     "exception": false,
     "start_time": "2021-10-11T13:31:50.511836",
     "status": "completed"
    },
    "tags": []
   },
   "outputs": [
    {
     "name": "stdout",
     "output_type": "stream",
     "text": [
      "Model: \"sequential\"\n",
      "_________________________________________________________________\n",
      "Layer (type)                 Output Shape              Param #   \n",
      "=================================================================\n",
      "conv2d (Conv2D)              (None, 6, 6, 64)          1088      \n",
      "_________________________________________________________________\n",
      "conv2d_1 (Conv2D)            (None, 5, 5, 32)          8224      \n",
      "_________________________________________________________________\n",
      "dropout (Dropout)            (None, 5, 5, 32)          0         \n",
      "_________________________________________________________________\n",
      "flatten (Flatten)            (None, 800)               0         \n",
      "_________________________________________________________________\n",
      "dense (Dense)                (None, 32)                25632     \n",
      "_________________________________________________________________\n",
      "dense_1 (Dense)              (None, 8)                 264       \n",
      "_________________________________________________________________\n",
      "dense_2 (Dense)              (None, 2)                 18        \n",
      "=================================================================\n",
      "Total params: 35,226\n",
      "Trainable params: 35,226\n",
      "Non-trainable params: 0\n",
      "_________________________________________________________________\n"
     ]
    }
   ],
   "source": [
    "model.summary()"
   ]
  },
  {
   "cell_type": "code",
   "execution_count": 13,
   "id": "a5153d88",
   "metadata": {
    "execution": {
     "iopub.execute_input": "2021-10-11T13:31:50.597993Z",
     "iopub.status.busy": "2021-10-11T13:31:50.593714Z",
     "iopub.status.idle": "2021-10-11T13:31:50.603998Z",
     "shell.execute_reply": "2021-10-11T13:31:50.603550Z",
     "shell.execute_reply.started": "2021-10-11T12:55:43.721691Z"
    },
    "papermill": {
     "duration": 0.038406,
     "end_time": "2021-10-11T13:31:50.604146",
     "exception": false,
     "start_time": "2021-10-11T13:31:50.565740",
     "status": "completed"
    },
    "tags": []
   },
   "outputs": [],
   "source": [
    "model.compile(loss='categorical_crossentropy',optimizer='adam',metrics=['accuracy'])"
   ]
  },
  {
   "cell_type": "code",
   "execution_count": 14,
   "id": "2b0189f0",
   "metadata": {
    "execution": {
     "iopub.execute_input": "2021-10-11T13:31:50.648650Z",
     "iopub.status.busy": "2021-10-11T13:31:50.648019Z",
     "iopub.status.idle": "2021-10-11T13:43:42.752636Z",
     "shell.execute_reply": "2021-10-11T13:43:42.753264Z",
     "shell.execute_reply.started": "2021-10-11T12:57:59.610303Z"
    },
    "papermill": {
     "duration": 712.130089,
     "end_time": "2021-10-11T13:43:42.753448",
     "exception": false,
     "start_time": "2021-10-11T13:31:50.623359",
     "status": "completed"
    },
    "tags": []
   },
   "outputs": [
    {
     "name": "stderr",
     "output_type": "stream",
     "text": [
      "2021-10-11 13:31:50.650596: W tensorflow/core/framework/cpu_allocator_impl.cc:80] Allocation of 25081488 exceeds 10% of free system memory.\n",
      "2021-10-11 13:31:50.754333: I tensorflow/compiler/mlir/mlir_graph_optimization_pass.cc:116] None of the MLIR optimization passes are enabled (registered 2)\n",
      "2021-10-11 13:31:50.767483: I tensorflow/core/platform/profile_utils/cpu_utils.cc:112] CPU Frequency: 2199995000 Hz\n"
     ]
    },
    {
     "name": "stdout",
     "output_type": "stream",
     "text": [
      "Epoch 1/100\n",
      "1210/1210 [==============================] - 8s 6ms/step - loss: 0.6859 - accuracy: 0.5495 - val_loss: 0.6951 - val_accuracy: 0.4921\n",
      "Epoch 2/100\n",
      "1210/1210 [==============================] - 7s 6ms/step - loss: 0.6790 - accuracy: 0.5685 - val_loss: 0.6996 - val_accuracy: 0.5197\n",
      "Epoch 3/100\n",
      "1210/1210 [==============================] - 7s 6ms/step - loss: 0.6717 - accuracy: 0.5793 - val_loss: 0.7316 - val_accuracy: 0.5257\n",
      "Epoch 4/100\n",
      "1210/1210 [==============================] - 7s 6ms/step - loss: 0.6600 - accuracy: 0.5931 - val_loss: 0.7493 - val_accuracy: 0.5293\n",
      "Epoch 5/100\n",
      "1210/1210 [==============================] - 7s 5ms/step - loss: 0.6480 - accuracy: 0.6088 - val_loss: 0.7495 - val_accuracy: 0.5117\n",
      "Epoch 6/100\n",
      "1210/1210 [==============================] - 7s 6ms/step - loss: 0.6334 - accuracy: 0.6226 - val_loss: 0.7501 - val_accuracy: 0.5190\n",
      "Epoch 7/100\n",
      "1210/1210 [==============================] - 9s 8ms/step - loss: 0.6184 - accuracy: 0.6334 - val_loss: 0.7617 - val_accuracy: 0.5143\n",
      "Epoch 8/100\n",
      "1210/1210 [==============================] - 7s 6ms/step - loss: 0.6055 - accuracy: 0.6436 - val_loss: 0.7774 - val_accuracy: 0.5134\n",
      "Epoch 9/100\n",
      "1210/1210 [==============================] - 7s 6ms/step - loss: 0.5949 - accuracy: 0.6516 - val_loss: 0.7848 - val_accuracy: 0.5204\n",
      "Epoch 10/100\n",
      "1210/1210 [==============================] - 7s 5ms/step - loss: 0.5853 - accuracy: 0.6579 - val_loss: 0.8002 - val_accuracy: 0.5219\n",
      "Epoch 11/100\n",
      "1210/1210 [==============================] - 7s 6ms/step - loss: 0.5744 - accuracy: 0.6674 - val_loss: 0.8378 - val_accuracy: 0.5216\n",
      "Epoch 12/100\n",
      "1210/1210 [==============================] - 7s 6ms/step - loss: 0.5657 - accuracy: 0.6746 - val_loss: 0.8345 - val_accuracy: 0.5245\n",
      "Epoch 13/100\n",
      "1210/1210 [==============================] - 7s 6ms/step - loss: 0.5565 - accuracy: 0.6796 - val_loss: 0.8481 - val_accuracy: 0.5234\n",
      "Epoch 14/100\n",
      "1210/1210 [==============================] - 7s 6ms/step - loss: 0.5484 - accuracy: 0.6861 - val_loss: 0.8646 - val_accuracy: 0.5142\n",
      "Epoch 15/100\n",
      "1210/1210 [==============================] - 7s 6ms/step - loss: 0.5429 - accuracy: 0.6872 - val_loss: 0.8643 - val_accuracy: 0.5265\n",
      "Epoch 16/100\n",
      "1210/1210 [==============================] - 7s 6ms/step - loss: 0.5372 - accuracy: 0.6922 - val_loss: 0.8687 - val_accuracy: 0.5221\n",
      "Epoch 17/100\n",
      "1210/1210 [==============================] - 7s 6ms/step - loss: 0.5318 - accuracy: 0.6972 - val_loss: 0.8939 - val_accuracy: 0.5258\n",
      "Epoch 18/100\n",
      "1210/1210 [==============================] - 7s 6ms/step - loss: 0.5244 - accuracy: 0.6986 - val_loss: 0.9205 - val_accuracy: 0.5187\n",
      "Epoch 19/100\n",
      "1210/1210 [==============================] - 7s 6ms/step - loss: 0.5170 - accuracy: 0.7057 - val_loss: 0.9234 - val_accuracy: 0.5192\n",
      "Epoch 20/100\n",
      "1210/1210 [==============================] - 7s 6ms/step - loss: 0.5132 - accuracy: 0.7053 - val_loss: 0.9482 - val_accuracy: 0.5219\n",
      "Epoch 21/100\n",
      "1210/1210 [==============================] - 7s 6ms/step - loss: 0.5106 - accuracy: 0.7096 - val_loss: 0.9156 - val_accuracy: 0.5252\n",
      "Epoch 22/100\n",
      "1210/1210 [==============================] - 7s 6ms/step - loss: 0.5080 - accuracy: 0.7098 - val_loss: 0.9511 - val_accuracy: 0.5267\n",
      "Epoch 23/100\n",
      "1210/1210 [==============================] - 7s 6ms/step - loss: 0.4998 - accuracy: 0.7135 - val_loss: 0.9212 - val_accuracy: 0.5239\n",
      "Epoch 24/100\n",
      "1210/1210 [==============================] - 7s 6ms/step - loss: 0.5005 - accuracy: 0.7139 - val_loss: 0.9307 - val_accuracy: 0.5265\n",
      "Epoch 25/100\n",
      "1210/1210 [==============================] - 7s 6ms/step - loss: 0.4956 - accuracy: 0.7170 - val_loss: 0.9371 - val_accuracy: 0.5299\n",
      "Epoch 26/100\n",
      "1210/1210 [==============================] - 7s 6ms/step - loss: 0.4927 - accuracy: 0.7188 - val_loss: 0.9883 - val_accuracy: 0.5209\n",
      "Epoch 27/100\n",
      "1210/1210 [==============================] - 7s 6ms/step - loss: 0.4908 - accuracy: 0.7198 - val_loss: 0.9850 - val_accuracy: 0.5222\n",
      "Epoch 28/100\n",
      "1210/1210 [==============================] - 7s 6ms/step - loss: 0.4841 - accuracy: 0.7221 - val_loss: 0.9909 - val_accuracy: 0.5235\n",
      "Epoch 29/100\n",
      "1210/1210 [==============================] - 7s 6ms/step - loss: 0.4865 - accuracy: 0.7197 - val_loss: 0.9766 - val_accuracy: 0.5241\n",
      "Epoch 30/100\n",
      "1210/1210 [==============================] - 7s 6ms/step - loss: 0.4805 - accuracy: 0.7262 - val_loss: 0.9598 - val_accuracy: 0.5210\n",
      "Epoch 31/100\n",
      "1210/1210 [==============================] - 7s 6ms/step - loss: 0.4783 - accuracy: 0.7273 - val_loss: 1.0200 - val_accuracy: 0.5285\n",
      "Epoch 32/100\n",
      "1210/1210 [==============================] - 7s 6ms/step - loss: 0.4745 - accuracy: 0.7270 - val_loss: 1.0375 - val_accuracy: 0.5220\n",
      "Epoch 33/100\n",
      "1210/1210 [==============================] - 7s 6ms/step - loss: 0.4739 - accuracy: 0.7293 - val_loss: 1.0507 - val_accuracy: 0.5217\n",
      "Epoch 34/100\n",
      "1210/1210 [==============================] - 7s 6ms/step - loss: 0.4694 - accuracy: 0.7327 - val_loss: 1.0182 - val_accuracy: 0.5251\n",
      "Epoch 35/100\n",
      "1210/1210 [==============================] - 7s 6ms/step - loss: 0.4678 - accuracy: 0.7344 - val_loss: 0.9819 - val_accuracy: 0.5252\n",
      "Epoch 36/100\n",
      "1210/1210 [==============================] - 8s 6ms/step - loss: 0.4695 - accuracy: 0.7319 - val_loss: 1.0191 - val_accuracy: 0.5171\n",
      "Epoch 37/100\n",
      "1210/1210 [==============================] - 7s 6ms/step - loss: 0.4616 - accuracy: 0.7355 - val_loss: 1.0339 - val_accuracy: 0.5263\n",
      "Epoch 38/100\n",
      "1210/1210 [==============================] - 7s 6ms/step - loss: 0.4649 - accuracy: 0.7361 - val_loss: 1.0861 - val_accuracy: 0.5174\n",
      "Epoch 39/100\n",
      "1210/1210 [==============================] - 7s 6ms/step - loss: 0.4633 - accuracy: 0.7360 - val_loss: 1.0469 - val_accuracy: 0.5241\n",
      "Epoch 40/100\n",
      "1210/1210 [==============================] - 8s 6ms/step - loss: 0.4582 - accuracy: 0.7387 - val_loss: 1.0899 - val_accuracy: 0.5227\n",
      "Epoch 41/100\n",
      "1210/1210 [==============================] - 7s 6ms/step - loss: 0.4562 - accuracy: 0.7395 - val_loss: 1.0649 - val_accuracy: 0.5223\n",
      "Epoch 42/100\n",
      "1210/1210 [==============================] - 7s 6ms/step - loss: 0.4590 - accuracy: 0.7406 - val_loss: 1.0627 - val_accuracy: 0.5187\n",
      "Epoch 43/100\n",
      "1210/1210 [==============================] - 7s 6ms/step - loss: 0.4527 - accuracy: 0.7423 - val_loss: 1.0780 - val_accuracy: 0.5241\n",
      "Epoch 44/100\n",
      "1210/1210 [==============================] - 7s 6ms/step - loss: 0.4514 - accuracy: 0.7436 - val_loss: 1.1271 - val_accuracy: 0.5194\n",
      "Epoch 45/100\n",
      "1210/1210 [==============================] - 8s 6ms/step - loss: 0.4489 - accuracy: 0.7453 - val_loss: 1.0850 - val_accuracy: 0.5208\n",
      "Epoch 46/100\n",
      "1210/1210 [==============================] - 7s 6ms/step - loss: 0.4501 - accuracy: 0.7413 - val_loss: 1.1081 - val_accuracy: 0.5166\n",
      "Epoch 47/100\n",
      "1210/1210 [==============================] - 7s 6ms/step - loss: 0.4481 - accuracy: 0.7446 - val_loss: 1.0807 - val_accuracy: 0.5179\n",
      "Epoch 48/100\n",
      "1210/1210 [==============================] - 7s 6ms/step - loss: 0.4500 - accuracy: 0.7430 - val_loss: 1.1207 - val_accuracy: 0.5209\n",
      "Epoch 49/100\n",
      "1210/1210 [==============================] - 7s 6ms/step - loss: 0.4419 - accuracy: 0.7481 - val_loss: 1.0999 - val_accuracy: 0.5169\n",
      "Epoch 50/100\n",
      "1210/1210 [==============================] - 7s 6ms/step - loss: 0.4473 - accuracy: 0.7447 - val_loss: 1.1343 - val_accuracy: 0.5173\n",
      "Epoch 51/100\n",
      "1210/1210 [==============================] - 7s 6ms/step - loss: 0.4442 - accuracy: 0.7477 - val_loss: 1.0813 - val_accuracy: 0.5199\n",
      "Epoch 52/100\n",
      "1210/1210 [==============================] - 7s 6ms/step - loss: 0.4411 - accuracy: 0.7499 - val_loss: 1.1252 - val_accuracy: 0.5208\n",
      "Epoch 53/100\n",
      "1210/1210 [==============================] - 7s 6ms/step - loss: 0.4439 - accuracy: 0.7483 - val_loss: 1.1330 - val_accuracy: 0.5183\n",
      "Epoch 54/100\n",
      "1210/1210 [==============================] - 8s 6ms/step - loss: 0.4409 - accuracy: 0.7495 - val_loss: 1.1551 - val_accuracy: 0.5224\n",
      "Epoch 55/100\n",
      "1210/1210 [==============================] - 7s 6ms/step - loss: 0.4398 - accuracy: 0.7513 - val_loss: 1.1102 - val_accuracy: 0.5171\n",
      "Epoch 56/100\n",
      "1210/1210 [==============================] - 7s 6ms/step - loss: 0.4394 - accuracy: 0.7503 - val_loss: 1.1474 - val_accuracy: 0.5192\n",
      "Epoch 57/100\n",
      "1210/1210 [==============================] - 7s 6ms/step - loss: 0.4397 - accuracy: 0.7473 - val_loss: 1.1818 - val_accuracy: 0.5219\n",
      "Epoch 58/100\n",
      "1210/1210 [==============================] - 7s 6ms/step - loss: 0.4378 - accuracy: 0.7501 - val_loss: 1.1530 - val_accuracy: 0.5269\n",
      "Epoch 59/100\n",
      "1210/1210 [==============================] - 7s 6ms/step - loss: 0.4299 - accuracy: 0.7539 - val_loss: 1.1375 - val_accuracy: 0.5202\n",
      "Epoch 60/100\n",
      "1210/1210 [==============================] - 7s 6ms/step - loss: 0.4362 - accuracy: 0.7524 - val_loss: 1.2068 - val_accuracy: 0.5163\n",
      "Epoch 61/100\n",
      "1210/1210 [==============================] - 7s 6ms/step - loss: 0.4357 - accuracy: 0.7506 - val_loss: 1.1736 - val_accuracy: 0.5193\n",
      "Epoch 62/100\n",
      "1210/1210 [==============================] - 7s 6ms/step - loss: 0.4365 - accuracy: 0.7510 - val_loss: 1.1862 - val_accuracy: 0.5117\n",
      "Epoch 63/100\n",
      "1210/1210 [==============================] - 7s 6ms/step - loss: 0.4289 - accuracy: 0.7552 - val_loss: 1.1486 - val_accuracy: 0.5163\n",
      "Epoch 64/100\n",
      "1210/1210 [==============================] - 8s 6ms/step - loss: 0.4301 - accuracy: 0.7534 - val_loss: 1.1753 - val_accuracy: 0.5191\n",
      "Epoch 65/100\n",
      "1210/1210 [==============================] - 7s 6ms/step - loss: 0.4302 - accuracy: 0.7551 - val_loss: 1.1600 - val_accuracy: 0.5178\n",
      "Epoch 66/100\n",
      "1210/1210 [==============================] - 7s 6ms/step - loss: 0.4283 - accuracy: 0.7557 - val_loss: 1.1610 - val_accuracy: 0.5112\n",
      "Epoch 67/100\n",
      "1210/1210 [==============================] - 7s 6ms/step - loss: 0.4285 - accuracy: 0.7553 - val_loss: 1.1887 - val_accuracy: 0.5165\n",
      "Epoch 68/100\n",
      "1210/1210 [==============================] - 7s 6ms/step - loss: 0.4253 - accuracy: 0.7594 - val_loss: 1.1690 - val_accuracy: 0.5162\n",
      "Epoch 69/100\n",
      "1210/1210 [==============================] - 8s 6ms/step - loss: 0.4279 - accuracy: 0.7558 - val_loss: 1.2187 - val_accuracy: 0.5176\n",
      "Epoch 70/100\n",
      "1210/1210 [==============================] - 7s 6ms/step - loss: 0.4313 - accuracy: 0.7526 - val_loss: 1.1489 - val_accuracy: 0.5247\n",
      "Epoch 71/100\n",
      "1210/1210 [==============================] - 7s 6ms/step - loss: 0.4259 - accuracy: 0.7594 - val_loss: 1.1838 - val_accuracy: 0.5147\n",
      "Epoch 72/100\n",
      "1210/1210 [==============================] - 7s 6ms/step - loss: 0.4227 - accuracy: 0.7584 - val_loss: 1.1647 - val_accuracy: 0.5189\n",
      "Epoch 73/100\n",
      "1210/1210 [==============================] - 8s 6ms/step - loss: 0.4263 - accuracy: 0.7559 - val_loss: 1.1975 - val_accuracy: 0.5184\n",
      "Epoch 74/100\n",
      "1210/1210 [==============================] - 7s 6ms/step - loss: 0.4264 - accuracy: 0.7571 - val_loss: 1.2188 - val_accuracy: 0.5215\n",
      "Epoch 75/100\n",
      "1210/1210 [==============================] - 7s 6ms/step - loss: 0.4237 - accuracy: 0.7574 - val_loss: 1.2081 - val_accuracy: 0.5233\n",
      "Epoch 76/100\n",
      "1210/1210 [==============================] - 7s 6ms/step - loss: 0.4228 - accuracy: 0.7587 - val_loss: 1.2313 - val_accuracy: 0.5205\n",
      "Epoch 77/100\n",
      "1210/1210 [==============================] - 7s 6ms/step - loss: 0.4219 - accuracy: 0.7603 - val_loss: 1.2135 - val_accuracy: 0.5222\n",
      "Epoch 78/100\n",
      "1210/1210 [==============================] - 8s 6ms/step - loss: 0.4201 - accuracy: 0.7602 - val_loss: 1.2021 - val_accuracy: 0.5164\n",
      "Epoch 79/100\n",
      "1210/1210 [==============================] - 7s 6ms/step - loss: 0.4169 - accuracy: 0.7599 - val_loss: 1.2128 - val_accuracy: 0.5173\n",
      "Epoch 80/100\n",
      "1210/1210 [==============================] - 7s 6ms/step - loss: 0.4192 - accuracy: 0.7599 - val_loss: 1.2809 - val_accuracy: 0.5257\n",
      "Epoch 81/100\n",
      "1210/1210 [==============================] - 7s 6ms/step - loss: 0.4241 - accuracy: 0.7579 - val_loss: 1.2397 - val_accuracy: 0.5225\n",
      "Epoch 82/100\n",
      "1210/1210 [==============================] - 7s 6ms/step - loss: 0.4183 - accuracy: 0.7602 - val_loss: 1.2441 - val_accuracy: 0.5138\n",
      "Epoch 83/100\n",
      "1210/1210 [==============================] - 7s 6ms/step - loss: 0.4192 - accuracy: 0.7626 - val_loss: 1.2104 - val_accuracy: 0.5192\n",
      "Epoch 84/100\n",
      "1210/1210 [==============================] - 7s 6ms/step - loss: 0.4183 - accuracy: 0.7612 - val_loss: 1.2521 - val_accuracy: 0.5192\n",
      "Epoch 85/100\n",
      "1210/1210 [==============================] - 7s 6ms/step - loss: 0.4162 - accuracy: 0.7613 - val_loss: 1.2436 - val_accuracy: 0.5216\n",
      "Epoch 86/100\n",
      "1210/1210 [==============================] - 7s 6ms/step - loss: 0.4178 - accuracy: 0.7629 - val_loss: 1.2341 - val_accuracy: 0.5205\n",
      "Epoch 87/100\n",
      "1210/1210 [==============================] - 7s 6ms/step - loss: 0.4158 - accuracy: 0.7626 - val_loss: 1.2375 - val_accuracy: 0.5213\n",
      "Epoch 88/100\n",
      "1210/1210 [==============================] - 8s 6ms/step - loss: 0.4154 - accuracy: 0.7650 - val_loss: 1.2337 - val_accuracy: 0.5213\n",
      "Epoch 89/100\n",
      "1210/1210 [==============================] - 7s 6ms/step - loss: 0.4125 - accuracy: 0.7653 - val_loss: 1.1996 - val_accuracy: 0.5209\n",
      "Epoch 90/100\n",
      "1210/1210 [==============================] - 7s 6ms/step - loss: 0.4139 - accuracy: 0.7646 - val_loss: 1.2304 - val_accuracy: 0.5157\n",
      "Epoch 91/100\n",
      "1210/1210 [==============================] - 7s 6ms/step - loss: 0.4115 - accuracy: 0.7664 - val_loss: 1.2479 - val_accuracy: 0.5189\n",
      "Epoch 92/100\n",
      "1210/1210 [==============================] - 7s 6ms/step - loss: 0.4080 - accuracy: 0.7668 - val_loss: 1.2596 - val_accuracy: 0.5190\n",
      "Epoch 93/100\n",
      "1210/1210 [==============================] - 10s 8ms/step - loss: 0.4099 - accuracy: 0.7667 - val_loss: 1.2060 - val_accuracy: 0.5211\n",
      "Epoch 94/100\n",
      "1210/1210 [==============================] - 7s 6ms/step - loss: 0.4098 - accuracy: 0.7686 - val_loss: 1.2493 - val_accuracy: 0.5180\n",
      "Epoch 95/100\n",
      "1210/1210 [==============================] - 7s 6ms/step - loss: 0.4103 - accuracy: 0.7649 - val_loss: 1.2051 - val_accuracy: 0.5162\n",
      "Epoch 96/100\n",
      "1210/1210 [==============================] - 7s 6ms/step - loss: 0.4119 - accuracy: 0.7651 - val_loss: 1.2396 - val_accuracy: 0.5206\n",
      "Epoch 97/100\n",
      "1210/1210 [==============================] - 7s 6ms/step - loss: 0.4093 - accuracy: 0.7687 - val_loss: 1.2579 - val_accuracy: 0.5173\n",
      "Epoch 98/100\n",
      "1210/1210 [==============================] - 8s 6ms/step - loss: 0.4070 - accuracy: 0.7691 - val_loss: 1.2646 - val_accuracy: 0.5170\n",
      "Epoch 99/100\n",
      "1210/1210 [==============================] - 7s 6ms/step - loss: 0.4098 - accuracy: 0.7676 - val_loss: 1.2221 - val_accuracy: 0.5174\n",
      "Epoch 100/100\n",
      "1210/1210 [==============================] - 7s 6ms/step - loss: 0.4081 - accuracy: 0.7661 - val_loss: 1.2850 - val_accuracy: 0.5175\n"
     ]
    }
   ],
   "source": [
    "his = model.fit(X_train, Y_train, validation_split=0.2, epochs=100, batch_size=64, verbose=1)"
   ]
  },
  {
   "cell_type": "code",
   "execution_count": 15,
   "id": "997d79ef",
   "metadata": {
    "execution": {
     "iopub.execute_input": "2021-10-11T13:43:50.218044Z",
     "iopub.status.busy": "2021-10-11T13:43:50.214457Z",
     "iopub.status.idle": "2021-10-11T13:43:50.419374Z",
     "shell.execute_reply": "2021-10-11T13:43:50.418517Z",
     "shell.execute_reply.started": "2021-10-11T13:12:41.499808Z"
    },
    "papermill": {
     "duration": 3.924171,
     "end_time": "2021-10-11T13:43:50.419511",
     "exception": false,
     "start_time": "2021-10-11T13:43:46.495340",
     "status": "completed"
    },
    "tags": []
   },
   "outputs": [
    {
     "data": {
      "image/png": "[encoded data removed]",
      "text/plain": [
       "<Figure size 432x288 with 1 Axes>"
      ]
     },
     "metadata": {
      "needs_background": "light"
     },
     "output_type": "display_data"
    },
    {
     "data": {
      "text/plain": [
       "<Figure size 432x288 with 0 Axes>"
      ]
     },
     "metadata": {},
     "output_type": "display_data"
    }
   ],
   "source": [
    "get_acc = his.history['accuracy']\n",
    "value_acc = his.history['val_accuracy']\n",
    "get_loss = his.history['loss']\n",
    "validation_loss = his.history['val_loss']\n",
    "\n",
    "epochs = range(len(get_acc))\n",
    "plt.plot(epochs, get_acc, 'r', label='Accuracy of Training data')\n",
    "plt.plot(epochs, value_acc, 'b', label='Accuracy of Validation data')\n",
    "plt.title('Training vs validation accuracy')\n",
    "plt.legend(loc=0)\n",
    "plt.figure()\n",
    "plt.show()"
   ]
  },
  {
   "cell_type": "code",
   "execution_count": 16,
   "id": "de923335",
   "metadata": {
    "execution": {
     "iopub.execute_input": "2021-10-11T13:43:57.931535Z",
     "iopub.status.busy": "2021-10-11T13:43:57.912006Z",
     "iopub.status.idle": "2021-10-11T13:43:58.080204Z",
     "shell.execute_reply": "2021-10-11T13:43:58.079739Z",
     "shell.execute_reply.started": "2021-10-11T13:12:41.820442Z"
    },
    "papermill": {
     "duration": 3.858772,
     "end_time": "2021-10-11T13:43:58.080358",
     "exception": false,
     "start_time": "2021-10-11T13:43:54.221586",
     "status": "completed"
    },
    "tags": []
   },
   "outputs": [
    {
     "data": {
      "image/png": "[encoded data removed]",
      "text/plain": [
       "<Figure size 432x288 with 1 Axes>"
      ]
     },
     "metadata": {
      "needs_background": "light"
     },
     "output_type": "display_data"
    },
    {
     "data": {
      "text/plain": [
       "<Figure size 432x288 with 0 Axes>"
      ]
     },
     "metadata": {},
     "output_type": "display_data"
    }
   ],
   "source": [
    "epochs = range(len(get_loss))\n",
    "plt.plot(epochs, get_loss, 'r', label='Loss of Training data')\n",
    "plt.plot(epochs, validation_loss, 'b', label='Loss of Validation data')\n",
    "plt.title('Training vs validation loss')\n",
    "plt.legend(loc=0)\n",
    "plt.figure()\n",
    "plt.show()"
   ]
  },
  {
   "cell_type": "code",
   "execution_count": 17,
   "id": "f26c5dbf",
   "metadata": {
    "execution": {
     "iopub.execute_input": "2021-10-11T13:44:05.632225Z",
     "iopub.status.busy": "2021-10-11T13:44:05.631574Z",
     "iopub.status.idle": "2021-10-11T13:44:06.306780Z",
     "shell.execute_reply": "2021-10-11T13:44:06.307265Z",
     "shell.execute_reply.started": "2021-10-11T13:15:14.791363Z"
    },
    "papermill": {
     "duration": 4.443101,
     "end_time": "2021-10-11T13:44:06.307439",
     "exception": false,
     "start_time": "2021-10-11T13:44:01.864338",
     "status": "completed"
    },
    "tags": []
   },
   "outputs": [
    {
     "data": {
      "text/html": [
       "<div>\n",
       "<style scoped>\n",
       "    .dataframe tbody tr th:only-of-type {\n",
       "        vertical-align: middle;\n",
       "    }\n",
       "\n",
       "    .dataframe tbody tr th {\n",
       "        vertical-align: top;\n",
       "    }\n",
       "\n",
       "    .dataframe thead th {\n",
       "        text-align: right;\n",
       "    }\n",
       "</style>\n",
       "<table border=\"1\" class=\"dataframe\">\n",
       "  <thead>\n",
       "    <tr style=\"text-align: right;\">\n",
       "      <th></th>\n",
       "      <th>BraTS21ID</th>\n",
       "      <th>MGMT_value</th>\n",
       "    </tr>\n",
       "  </thead>\n",
       "  <tbody>\n",
       "    <tr>\n",
       "      <th>0</th>\n",
       "      <td>1</td>\n",
       "      <td>0.852713</td>\n",
       "    </tr>\n",
       "    <tr>\n",
       "      <th>1</th>\n",
       "      <td>13</td>\n",
       "      <td>0.674419</td>\n",
       "    </tr>\n",
       "    <tr>\n",
       "      <th>2</th>\n",
       "      <td>15</td>\n",
       "      <td>0.792763</td>\n",
       "    </tr>\n",
       "    <tr>\n",
       "      <th>3</th>\n",
       "      <td>27</td>\n",
       "      <td>0.759868</td>\n",
       "    </tr>\n",
       "    <tr>\n",
       "      <th>4</th>\n",
       "      <td>37</td>\n",
       "      <td>0.806202</td>\n",
       "    </tr>\n",
       "    <tr>\n",
       "      <th>...</th>\n",
       "      <td>...</td>\n",
       "      <td>...</td>\n",
       "    </tr>\n",
       "    <tr>\n",
       "      <th>82</th>\n",
       "      <td>826</td>\n",
       "      <td>0.562500</td>\n",
       "    </tr>\n",
       "    <tr>\n",
       "      <th>83</th>\n",
       "      <td>829</td>\n",
       "      <td>0.481481</td>\n",
       "    </tr>\n",
       "    <tr>\n",
       "      <th>84</th>\n",
       "      <td>833</td>\n",
       "      <td>0.468750</td>\n",
       "    </tr>\n",
       "    <tr>\n",
       "      <th>85</th>\n",
       "      <td>997</td>\n",
       "      <td>0.583333</td>\n",
       "    </tr>\n",
       "    <tr>\n",
       "      <th>86</th>\n",
       "      <td>1006</td>\n",
       "      <td>0.556452</td>\n",
       "    </tr>\n",
       "  </tbody>\n",
       "</table>\n",
       "<p>87 rows × 2 columns</p>\n",
       "</div>"
      ],
      "text/plain": [
       "    BraTS21ID  MGMT_value\n",
       "0           1    0.852713\n",
       "1          13    0.674419\n",
       "2          15    0.792763\n",
       "3          27    0.759868\n",
       "4          37    0.806202\n",
       "..        ...         ...\n",
       "82        826    0.562500\n",
       "83        829    0.481481\n",
       "84        833    0.468750\n",
       "85        997    0.583333\n",
       "86       1006    0.556452\n",
       "\n",
       "[87 rows x 2 columns]"
      ]
     },
     "execution_count": 17,
     "metadata": {},
     "output_type": "execute_result"
    }
   ],
   "source": [
    "y_pred=model.predict(X_test)\n",
    "pred=np.argmax(y_pred,axis=1)\n",
    "result=pd.DataFrame(testidt)\n",
    "result[1]=pred\n",
    "result.columns=['BraTS21ID','MGMT_value']\n",
    "result2=result.groupby('BraTS21ID',as_index=False).mean()\n",
    "result2"
   ]
  },
  {
   "cell_type": "code",
   "execution_count": 18,
   "id": "89184dc5",
   "metadata": {
    "execution": {
     "iopub.execute_input": "2021-10-11T13:44:13.956314Z",
     "iopub.status.busy": "2021-10-11T13:44:13.955653Z",
     "iopub.status.idle": "2021-10-11T13:44:13.972258Z",
     "shell.execute_reply": "2021-10-11T13:44:13.972713Z",
     "shell.execute_reply.started": "2021-10-11T13:15:37.591826Z"
    },
    "papermill": {
     "duration": 3.806215,
     "end_time": "2021-10-11T13:44:13.972869",
     "exception": false,
     "start_time": "2021-10-11T13:44:10.166654",
     "status": "completed"
    },
    "tags": []
   },
   "outputs": [
    {
     "data": {
      "text/html": [
       "<div>\n",
       "<style scoped>\n",
       "    .dataframe tbody tr th:only-of-type {\n",
       "        vertical-align: middle;\n",
       "    }\n",
       "\n",
       "    .dataframe tbody tr th {\n",
       "        vertical-align: top;\n",
       "    }\n",
       "\n",
       "    .dataframe thead th {\n",
       "        text-align: right;\n",
       "    }\n",
       "</style>\n",
       "<table border=\"1\" class=\"dataframe\">\n",
       "  <thead>\n",
       "    <tr style=\"text-align: right;\">\n",
       "      <th></th>\n",
       "      <th>BraTS21ID</th>\n",
       "      <th>MGMT_value</th>\n",
       "    </tr>\n",
       "  </thead>\n",
       "  <tbody>\n",
       "    <tr>\n",
       "      <th>0</th>\n",
       "      <td>1</td>\n",
       "      <td>0.9</td>\n",
       "    </tr>\n",
       "    <tr>\n",
       "      <th>1</th>\n",
       "      <td>13</td>\n",
       "      <td>0.7</td>\n",
       "    </tr>\n",
       "    <tr>\n",
       "      <th>2</th>\n",
       "      <td>15</td>\n",
       "      <td>0.8</td>\n",
       "    </tr>\n",
       "    <tr>\n",
       "      <th>3</th>\n",
       "      <td>27</td>\n",
       "      <td>0.8</td>\n",
       "    </tr>\n",
       "    <tr>\n",
       "      <th>4</th>\n",
       "      <td>37</td>\n",
       "      <td>0.8</td>\n",
       "    </tr>\n",
       "    <tr>\n",
       "      <th>...</th>\n",
       "      <td>...</td>\n",
       "      <td>...</td>\n",
       "    </tr>\n",
       "    <tr>\n",
       "      <th>82</th>\n",
       "      <td>826</td>\n",
       "      <td>0.6</td>\n",
       "    </tr>\n",
       "    <tr>\n",
       "      <th>83</th>\n",
       "      <td>829</td>\n",
       "      <td>0.5</td>\n",
       "    </tr>\n",
       "    <tr>\n",
       "      <th>84</th>\n",
       "      <td>833</td>\n",
       "      <td>0.5</td>\n",
       "    </tr>\n",
       "    <tr>\n",
       "      <th>85</th>\n",
       "      <td>997</td>\n",
       "      <td>0.6</td>\n",
       "    </tr>\n",
       "    <tr>\n",
       "      <th>86</th>\n",
       "      <td>1006</td>\n",
       "      <td>0.6</td>\n",
       "    </tr>\n",
       "  </tbody>\n",
       "</table>\n",
       "<p>87 rows × 2 columns</p>\n",
       "</div>"
      ],
      "text/plain": [
       "    BraTS21ID  MGMT_value\n",
       "0           1         0.9\n",
       "1          13         0.7\n",
       "2          15         0.8\n",
       "3          27         0.8\n",
       "4          37         0.8\n",
       "..        ...         ...\n",
       "82        826         0.6\n",
       "83        829         0.5\n",
       "84        833         0.5\n",
       "85        997         0.6\n",
       "86       1006         0.6\n",
       "\n",
       "[87 rows x 2 columns]"
      ]
     },
     "execution_count": 18,
     "metadata": {},
     "output_type": "execute_result"
    }
   ],
   "source": [
    "result2['BraTS21ID']=sample['BraTS21ID']\n",
    "result2['MGMT_value']=result2['MGMT_value'].apply(lambda x:round(x*10)/10)\n",
    "result2.to_csv('submission.csv',index=False)\n",
    "result2"
   ]
  },
  {
   "cell_type": "code",
   "execution_count": null,
   "id": "49854a2a",
   "metadata": {
    "papermill": {
     "duration": 3.739541,
     "end_time": "2021-10-11T13:44:21.572921",
     "exception": false,
     "start_time": "2021-10-11T13:44:17.833380",
     "status": "completed"
    },
    "tags": []
   },
   "outputs": [],
   "source": []
  }
 ],
 "metadata": {
  "kernelspec": {
   "display_name": "Python 3",
   "language": "python",
   "name": "python3"
  },
  "language_info": {
   "codemirror_mode": {
    "name": "ipython",
    "version": 3
   },
   "file_extension": ".py",
   "mimetype": "text/x-python",
   "name": "python",
   "nbconvert_exporter": "python",
   "pygments_lexer": "ipython3",
   "version": "3.7.10"
  },
  "papermill": {
   "default_parameters": {},
   "duration": 1674.086698,
   "end_time": "2021-10-11T13:44:28.333237",
   "environment_variables": {},
   "exception": null,
   "input_path": "__notebook__.ipynb",
   "output_path": "__notebook__.ipynb",
   "parameters": {},
   "start_time": "2021-10-11T13:16:34.246539",
   "version": "2.3.3"
  },
  "widgets": {
   "application/vnd.jupyter.widget-state+json": {
    "state": {
     "06a0a8f868ee4595893f4a86ccf3d507": {
      "model_module": "@jupyter-widgets/controls",
      "model_module_version": "1.5.0",
      "model_name": "HTMLModel",
      "state": {
       "_dom_classes": [],
       "_model_module": "@jupyter-widgets/controls",
       "_model_module_version": "1.5.0",
       "_model_name": "HTMLModel",
       "_view_count": null,
       "_view_module": "@jupyter-widgets/controls",
       "_view_module_version": "1.5.0",
       "_view_name": "HTMLView",
       "description": "",
       "description_tooltip": null,
       "layout": "IPY_MODEL_75ca47c1af57494cb569c7f6bb814d9c",
       "placeholder": "​",
       "style": "IPY_MODEL_5e9b4634e8bb4d99a5775ad74f32833e",
       "value": "100%"
      }
     },
     "1b712ac5f2ef4071bba47d14961308cf": {
      "model_module": "@jupyter-widgets/controls",
      "model_module_version": "1.5.0",
      "model_name": "FloatProgressModel",
      "state": {
       "_dom_classes": [],
       "_model_module": "@jupyter-widgets/controls",
       "_model_module_version": "1.5.0",
       "_model_name": "FloatProgressModel",
       "_view_count": null,
       "_view_module": "@jupyter-widgets/controls",
       "_view_module_version": "1.5.0",
       "_view_name": "ProgressView",
       "bar_style": "success",
       "description": "",
       "description_tooltip": null,
       "layout": "IPY_MODEL_c01d1f96122c4db0b33dd482a66def16",
       "max": 87.0,
       "min": 0.0,
       "orientation": "horizontal",
       "style": "IPY_MODEL_319dcfc9990047e5ba5210b3bb478045",
       "value": 87.0
      }
     },
     "24b5ff51acb240eab12238c1bcda81c1": {
      "model_module": "@jupyter-widgets/base",
      "model_module_version": "1.2.0",
      "model_name": "LayoutModel",
      "state": {
       "_model_module": "@jupyter-widgets/base",
       "_model_module_version": "1.2.0",
       "_model_name": "LayoutModel",
       "_view_count": null,
       "_view_module": "@jupyter-widgets/base",
       "_view_module_version": "1.2.0",
       "_view_name": "LayoutView",
       "align_content": null,
       "align_items": null,
       "align_self": null,
       "border": null,
       "bottom": null,
       "display": null,
       "flex": null,
       "flex_flow": null,
       "grid_area": null,
       "grid_auto_columns": null,
       "grid_auto_flow": null,
       "grid_auto_rows": null,
       "grid_column": null,
       "grid_gap": null,
       "grid_row": null,
       "grid_template_areas": null,
       "grid_template_columns": null,
       "grid_template_rows": null,
       "height": null,
       "justify_content": null,
       "justify_items": null,
       "left": null,
       "margin": null,
       "max_height": null,
       "max_width": null,
       "min_height": null,
       "min_width": null,
       "object_fit": null,
       "object_position": null,
       "order": null,
       "overflow": null,
       "overflow_x": null,
       "overflow_y": null,
       "padding": null,
       "right": null,
       "top": null,
       "visibility": null,
       "width": null
      }
     },
     "268e0430f41a49ae990874a7ab7e2a88": {
      "model_module": "@jupyter-widgets/controls",
      "model_module_version": "1.5.0",
      "model_name": "HTMLModel",
      "state": {
       "_dom_classes": [],
       "_model_module": "@jupyter-widgets/controls",
       "_model_module_version": "1.5.0",
       "_model_name": "HTMLModel",
       "_view_count": null,
       "_view_module": "@jupyter-widgets/controls",
       "_view_module_version": "1.5.0",
       "_view_name": "HTMLView",
       "description": "",
       "description_tooltip": null,
       "layout": "IPY_MODEL_3c0813fce7b04b5b98fd4254247da2a5",
       "placeholder": "​",
       "style": "IPY_MODEL_2cfc93d202cf4ebab15972a0fe62ab04",
       "value": "100%"
      }
     },
     "2cfc93d202cf4ebab15972a0fe62ab04": {
      "model_module": "@jupyter-widgets/controls",
      "model_module_version": "1.5.0",
      "model_name": "DescriptionStyleModel",
      "state": {
       "_model_module": "@jupyter-widgets/controls",
       "_model_module_version": "1.5.0",
       "_model_name": "DescriptionStyleModel",
       "_view_count": null,
       "_view_module": "@jupyter-widgets/base",
       "_view_module_version": "1.2.0",
       "_view_name": "StyleView",
       "description_width": ""
      }
     },
     "319dcfc9990047e5ba5210b3bb478045": {
      "model_module": "@jupyter-widgets/controls",
      "model_module_version": "1.5.0",
      "model_name": "ProgressStyleModel",
      "state": {
       "_model_module": "@jupyter-widgets/controls",
       "_model_module_version": "1.5.0",
       "_model_name": "ProgressStyleModel",
       "_view_count": null,
       "_view_module": "@jupyter-widgets/base",
       "_view_module_version": "1.2.0",
       "_view_name": "StyleView",
       "bar_color": null,
       "description_width": ""
      }
     },
     "330a821399fa4466bd7a02e0e3c156b7": {
      "model_module": "@jupyter-widgets/controls",
      "model_module_version": "1.5.0",
      "model_name": "HTMLModel",
      "state": {
       "_dom_classes": [],
       "_model_module": "@jupyter-widgets/controls",
       "_model_module_version": "1.5.0",
       "_model_name": "HTMLModel",
       "_view_count": null,
       "_view_module": "@jupyter-widgets/controls",
       "_view_module_version": "1.5.0",
       "_view_name": "HTMLView",
       "description": "",
       "description_tooltip": null,
       "layout": "IPY_MODEL_54fab8c4ceac45cba78a5953602e70e0",
       "placeholder": "​",
       "style": "IPY_MODEL_503c9e043e3a421a99e1295b0959fb45",
       "value": " 585/585 [13:12&lt;00:00,  1.30it/s]"
      }
     },
     "36bc122ff9ac4a8396ef3f66ab5b6c43": {
      "model_module": "@jupyter-widgets/controls",
      "model_module_version": "1.5.0",
      "model_name": "DescriptionStyleModel",
      "state": {
       "_model_module": "@jupyter-widgets/controls",
       "_model_module_version": "1.5.0",
       "_model_name": "DescriptionStyleModel",
       "_view_count": null,
       "_view_module": "@jupyter-widgets/base",
       "_view_module_version": "1.2.0",
       "_view_name": "StyleView",
       "description_width": ""
      }
     },
     "3c0813fce7b04b5b98fd4254247da2a5": {
      "model_module": "@jupyter-widgets/base",
      "model_module_version": "1.2.0",
      "model_name": "LayoutModel",
      "state": {
       "_model_module": "@jupyter-widgets/base",
       "_model_module_version": "1.2.0",
       "_model_name": "LayoutModel",
       "_view_count": null,
       "_view_module": "@jupyter-widgets/base",
       "_view_module_version": "1.2.0",
       "_view_name": "LayoutView",
       "align_content": null,
       "align_items": null,
       "align_self": null,
       "border": null,
       "bottom": null,
       "display": null,
       "flex": null,
       "flex_flow": null,
       "grid_area": null,
       "grid_auto_columns": null,
       "grid_auto_flow": null,
       "grid_auto_rows": null,
       "grid_column": null,
       "grid_gap": null,
       "grid_row": null,
       "grid_template_areas": null,
       "grid_template_columns": null,
       "grid_template_rows": null,
       "height": null,
       "justify_content": null,
       "justify_items": null,
       "left": null,
       "margin": null,
       "max_height": null,
       "max_width": null,
       "min_height": null,
       "min_width": null,
       "object_fit": null,
       "object_position": null,
       "order": null,
       "overflow": null,
       "overflow_x": null,
       "overflow_y": null,
       "padding": null,
       "right": null,
       "top": null,
       "visibility": null,
       "width": null
      }
     },
     "3c82f308aa69478a80d2bede7ff4e2ad": {
      "model_module": "@jupyter-widgets/base",
      "model_module_version": "1.2.0",
      "model_name": "LayoutModel",
      "state": {
       "_model_module": "@jupyter-widgets/base",
       "_model_module_version": "1.2.0",
       "_model_name": "LayoutModel",
       "_view_count": null,
       "_view_module": "@jupyter-widgets/base",
       "_view_module_version": "1.2.0",
       "_view_name": "LayoutView",
       "align_content": null,
       "align_items": null,
       "align_self": null,
       "border": null,
       "bottom": null,
       "display": null,
       "flex": null,
       "flex_flow": null,
       "grid_area": null,
       "grid_auto_columns": null,
       "grid_auto_flow": null,
       "grid_auto_rows": null,
       "grid_column": null,
       "grid_gap": null,
       "grid_row": null,
       "grid_template_areas": null,
       "grid_template_columns": null,
       "grid_template_rows": null,
       "height": null,
       "justify_content": null,
       "justify_items": null,
       "left": null,
       "margin": null,
       "max_height": null,
       "max_width": null,
       "min_height": null,
       "min_width": null,
       "object_fit": null,
       "object_position": null,
       "order": null,
       "overflow": null,
       "overflow_x": null,
       "overflow_y": null,
       "padding": null,
       "right": null,
       "top": null,
       "visibility": null,
       "width": null
      }
     },
     "503c9e043e3a421a99e1295b0959fb45": {
      "model_module": "@jupyter-widgets/controls",
      "model_module_version": "1.5.0",
      "model_name": "DescriptionStyleModel",
      "state": {
       "_model_module": "@jupyter-widgets/controls",
       "_model_module_version": "1.5.0",
       "_model_name": "DescriptionStyleModel",
       "_view_count": null,
       "_view_module": "@jupyter-widgets/base",
       "_view_module_version": "1.2.0",
       "_view_name": "StyleView",
       "description_width": ""
      }
     },
     "54fab8c4ceac45cba78a5953602e70e0": {
      "model_module": "@jupyter-widgets/base",
      "model_module_version": "1.2.0",
      "model_name": "LayoutModel",
      "state": {
       "_model_module": "@jupyter-widgets/base",
       "_model_module_version": "1.2.0",
       "_model_name": "LayoutModel",
       "_view_count": null,
       "_view_module": "@jupyter-widgets/base",
       "_view_module_version": "1.2.0",
       "_view_name": "LayoutView",
       "align_content": null,
       "align_items": null,
       "align_self": null,
       "border": null,
       "bottom": null,
       "display": null,
       "flex": null,
       "flex_flow": null,
       "grid_area": null,
       "grid_auto_columns": null,
       "grid_auto_flow": null,
       "grid_auto_rows": null,
       "grid_column": null,
       "grid_gap": null,
       "grid_row": null,
       "grid_template_areas": null,
       "grid_template_columns": null,
       "grid_template_rows": null,
       "height": null,
       "justify_content": null,
       "justify_items": null,
       "left": null,
       "margin": null,
       "max_height": null,
       "max_width": null,
       "min_height": null,
       "min_width": null,
       "object_fit": null,
       "object_position": null,
       "order": null,
       "overflow": null,
       "overflow_x": null,
       "overflow_y": null,
       "padding": null,
       "right": null,
       "top": null,
       "visibility": null,
       "width": null
      }
     },
     "5e9b4634e8bb4d99a5775ad74f32833e": {
      "model_module": "@jupyter-widgets/controls",
      "model_module_version": "1.5.0",
      "model_name": "DescriptionStyleModel",
      "state": {
       "_model_module": "@jupyter-widgets/controls",
       "_model_module_version": "1.5.0",
       "_model_name": "DescriptionStyleModel",
       "_view_count": null,
       "_view_module": "@jupyter-widgets/base",
       "_view_module_version": "1.2.0",
       "_view_name": "StyleView",
       "description_width": ""
      }
     },
     "75ca47c1af57494cb569c7f6bb814d9c": {
      "model_module": "@jupyter-widgets/base",
      "model_module_version": "1.2.0",
      "model_name": "LayoutModel",
      "state": {
       "_model_module": "@jupyter-widgets/base",
       "_model_module_version": "1.2.0",
       "_model_name": "LayoutModel",
       "_view_count": null,
       "_view_module": "@jupyter-widgets/base",
       "_view_module_version": "1.2.0",
       "_view_name": "LayoutView",
       "align_content": null,
       "align_items": null,
       "align_self": null,
       "border": null,
       "bottom": null,
       "display": null,
       "flex": null,
       "flex_flow": null,
       "grid_area": null,
       "grid_auto_columns": null,
       "grid_auto_flow": null,
       "grid_auto_rows": null,
       "grid_column": null,
       "grid_gap": null,
       "grid_row": null,
       "grid_template_areas": null,
       "grid_template_columns": null,
       "grid_template_rows": null,
       "height": null,
       "justify_content": null,
       "justify_items": null,
       "left": null,
       "margin": null,
       "max_height": null,
       "max_width": null,
       "min_height": null,
       "min_width": null,
       "object_fit": null,
       "object_position": null,
       "order": null,
       "overflow": null,
       "overflow_x": null,
       "overflow_y": null,
       "padding": null,
       "right": null,
       "top": null,
       "visibility": null,
       "width": null
      }
     },
     "876ee5568d884ba08280819b19cf6d67": {
      "model_module": "@jupyter-widgets/controls",
      "model_module_version": "1.5.0",
      "model_name": "HBoxModel",
      "state": {
       "_dom_classes": [],
       "_model_module": "@jupyter-widgets/controls",
       "_model_module_version": "1.5.0",
       "_model_name": "HBoxModel",
       "_view_count": null,
       "_view_module": "@jupyter-widgets/controls",
       "_view_module_version": "1.5.0",
       "_view_name": "HBoxView",
       "box_style": "",
       "children": [
        "IPY_MODEL_268e0430f41a49ae990874a7ab7e2a88",
        "IPY_MODEL_1b712ac5f2ef4071bba47d14961308cf",
        "IPY_MODEL_c1e8213781684a43bc6d322d3acc8a7e"
       ],
       "layout": "IPY_MODEL_bd300320f3524c8a9e8239d5f97ff9cc"
      }
     },
     "9ce302fda40d485286aff231b7502b42": {
      "model_module": "@jupyter-widgets/controls",
      "model_module_version": "1.5.0",
      "model_name": "ProgressStyleModel",
      "state": {
       "_model_module": "@jupyter-widgets/controls",
       "_model_module_version": "1.5.0",
       "_model_name": "ProgressStyleModel",
       "_view_count": null,
       "_view_module": "@jupyter-widgets/base",
       "_view_module_version": "1.2.0",
       "_view_name": "StyleView",
       "bar_color": null,
       "description_width": ""
      }
     },
     "a1226d01548b4ee5a1549f41572d09d2": {
      "model_module": "@jupyter-widgets/controls",
      "model_module_version": "1.5.0",
      "model_name": "HBoxModel",
      "state": {
       "_dom_classes": [],
       "_model_module": "@jupyter-widgets/controls",
       "_model_module_version": "1.5.0",
       "_model_name": "HBoxModel",
       "_view_count": null,
       "_view_module": "@jupyter-widgets/controls",
       "_view_module_version": "1.5.0",
       "_view_name": "HBoxView",
       "box_style": "",
       "children": [
        "IPY_MODEL_06a0a8f868ee4595893f4a86ccf3d507",
        "IPY_MODEL_b4b0895589344c52bd7cd40fc559ab64",
        "IPY_MODEL_330a821399fa4466bd7a02e0e3c156b7"
       ],
       "layout": "IPY_MODEL_24b5ff51acb240eab12238c1bcda81c1"
      }
     },
     "b4b0895589344c52bd7cd40fc559ab64": {
      "model_module": "@jupyter-widgets/controls",
      "model_module_version": "1.5.0",
      "model_name": "FloatProgressModel",
      "state": {
       "_dom_classes": [],
       "_model_module": "@jupyter-widgets/controls",
       "_model_module_version": "1.5.0",
       "_model_name": "FloatProgressModel",
       "_view_count": null,
       "_view_module": "@jupyter-widgets/controls",
       "_view_module_version": "1.5.0",
       "_view_name": "ProgressView",
       "bar_style": "success",
       "description": "",
       "description_tooltip": null,
       "layout": "IPY_MODEL_3c82f308aa69478a80d2bede7ff4e2ad",
       "max": 585.0,
       "min": 0.0,
       "orientation": "horizontal",
       "style": "IPY_MODEL_9ce302fda40d485286aff231b7502b42",
       "value": 585.0
      }
     },
     "bd300320f3524c8a9e8239d5f97ff9cc": {
      "model_module": "@jupyter-widgets/base",
      "model_module_version": "1.2.0",
      "model_name": "LayoutModel",
      "state": {
       "_model_module": "@jupyter-widgets/base",
       "_model_module_version": "1.2.0",
       "_model_name": "LayoutModel",
       "_view_count": null,
       "_view_module": "@jupyter-widgets/base",
       "_view_module_version": "1.2.0",
       "_view_name": "LayoutView",
       "align_content": null,
       "align_items": null,
       "align_self": null,
       "border": null,
       "bottom": null,
       "display": null,
       "flex": null,
       "flex_flow": null,
       "grid_area": null,
       "grid_auto_columns": null,
       "grid_auto_flow": null,
       "grid_auto_rows": null,
       "grid_column": null,
       "grid_gap": null,
       "grid_row": null,
       "grid_template_areas": null,
       "grid_template_columns": null,
       "grid_template_rows": null,
       "height": null,
       "justify_content": null,
       "justify_items": null,
       "left": null,
       "margin": null,
       "max_height": null,
       "max_width": null,
       "min_height": null,
       "min_width": null,
       "object_fit": null,
       "object_position": null,
       "order": null,
       "overflow": null,
       "overflow_x": null,
       "overflow_y": null,
       "padding": null,
       "right": null,
       "top": null,
       "visibility": null,
       "width": null
      }
     },
     "c01d1f96122c4db0b33dd482a66def16": {
      "model_module": "@jupyter-widgets/base",
      "model_module_version": "1.2.0",
      "model_name": "LayoutModel",
      "state": {
       "_model_module": "@jupyter-widgets/base",
       "_model_module_version": "1.2.0",
       "_model_name": "LayoutModel",
       "_view_count": null,
       "_view_module": "@jupyter-widgets/base",
       "_view_module_version": "1.2.0",
       "_view_name": "LayoutView",
       "align_content": null,
       "align_items": null,
       "align_self": null,
       "border": null,
       "bottom": null,
       "display": null,
       "flex": null,
       "flex_flow": null,
       "grid_area": null,
       "grid_auto_columns": null,
       "grid_auto_flow": null,
       "grid_auto_rows": null,
       "grid_column": null,
       "grid_gap": null,
       "grid_row": null,
       "grid_template_areas": null,
       "grid_template_columns": null,
       "grid_template_rows": null,
       "height": null,
       "justify_content": null,
       "justify_items": null,
       "left": null,
       "margin": null,
       "max_height": null,
       "max_width": null,
       "min_height": null,
       "min_width": null,
       "object_fit": null,
       "object_position": null,
       "order": null,
       "overflow": null,
       "overflow_x": null,
       "overflow_y": null,
       "padding": null,
       "right": null,
       "top": null,
       "visibility": null,
       "width": null
      }
     },
     "c1e8213781684a43bc6d322d3acc8a7e": {
      "model_module": "@jupyter-widgets/controls",
      "model_module_version": "1.5.0",
      "model_name": "HTMLModel",
      "state": {
       "_dom_classes": [],
       "_model_module": "@jupyter-widgets/controls",
       "_model_module_version": "1.5.0",
       "_model_name": "HTMLModel",
       "_view_count": null,
       "_view_module": "@jupyter-widgets/controls",
       "_view_module_version": "1.5.0",
       "_view_name": "HTMLView",
       "description": "",
       "description_tooltip": null,
       "layout": "IPY_MODEL_ca25c04f69724c47929d31d70d34767c",
       "placeholder": "​",
       "style": "IPY_MODEL_36bc122ff9ac4a8396ef3f66ab5b6c43",
       "value": " 87/87 [01:50&lt;00:00,  1.64it/s]"
      }
     },
     "ca25c04f69724c47929d31d70d34767c": {
      "model_module": "@jupyter-widgets/base",
      "model_module_version": "1.2.0",
      "model_name": "LayoutModel",
      "state": {
       "_model_module": "@jupyter-widgets/base",
       "_model_module_version": "1.2.0",
       "_model_name": "LayoutModel",
       "_view_count": null,
       "_view_module": "@jupyter-widgets/base",
       "_view_module_version": "1.2.0",
       "_view_name": "LayoutView",
       "align_content": null,
       "align_items": null,
       "align_self": null,
       "border": null,
       "bottom": null,
       "display": null,
       "flex": null,
       "flex_flow": null,
       "grid_area": null,
       "grid_auto_columns": null,
       "grid_auto_flow": null,
       "grid_auto_rows": null,
       "grid_column": null,
       "grid_gap": null,
       "grid_row": null,
       "grid_template_areas": null,
       "grid_template_columns": null,
       "grid_template_rows": null,
       "height": null,
       "justify_content": null,
       "justify_items": null,
       "left": null,
       "margin": null,
       "max_height": null,
       "max_width": null,
       "min_height": null,
       "min_width": null,
       "object_fit": null,
       "object_position": null,
       "order": null,
       "overflow": null,
       "overflow_x": null,
       "overflow_y": null,
       "padding": null,
       "right": null,
       "top": null,
       "visibility": null,
       "width": null
      }
     }
    },
    "version_major": 2,
    "version_minor": 0
   }
  }
 },
 "nbformat": 4,
 "nbformat_minor": 5
}
